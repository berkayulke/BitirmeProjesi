{
 "cells": [
  {
   "cell_type": "code",
   "execution_count": 197,
   "id": "fe57f371",
   "metadata": {},
   "outputs": [],
   "source": [
    "import numpy as np\n",
    "import pandas as pd\n",
    "import matplotlib\n",
    "import matplotlib.pyplot as plt\n",
    "import seaborn as sns"
   ]
  },
  {
   "cell_type": "code",
   "execution_count": 28,
   "id": "9c0ab387",
   "metadata": {},
   "outputs": [],
   "source": [
    "#applications = pd.read_csv('basvurular.tsv', sep='\\t')\n",
    "#postings = pd.read_csv('ilanlar.tsv', sep='\\t')\n",
    "#posting_sectors = pd.read_csv('ilanlar_Sektor.tsv', sep='\\t')\n",
    "cv_projects = pd.read_csv('ozgecmiler_Proje.tsv', sep='\\t')\n",
    "cvs = pd.read_csv('ozgecmisler.tsv', sep='\\t')\n",
    "cv_summaries = pd.read_csv('ozgecmisler_ozet.tsv', sep='\\t')\n",
    "cv_experiences = pd.read_csv('ozgecmisler_Tecrubeler.tsv', sep='\\t')\n",
    "cv_universities = pd.read_csv('ozgecmisler_universiteler.tsv', sep='\\t')\n",
    "cv_languages = pd.read_csv('ozgecmisler_YabanciDiller.tsv', sep='\\t')\n",
    "cv_skills = pd.read_csv(\n",
    "        'ozgecmisler_yetenekler.tsv', \n",
    "        sep='\\t', \n",
    "        header=None, \n",
    "        #TODO verify column names\n",
    "        names=['cvno','baslik','eklenme_tarihi']\n",
    ")\n",
    "\n",
    "all_data_frames = [\n",
    "    applications,\n",
    "    job_postings,\n",
    "    posting_sectors,\n",
    "    cv_projects,\n",
    "    cvs,\n",
    "    cv_summaries,\n",
    "    cv_experiences,\n",
    "    cv_universities,\n",
    "    cv_languages,\n",
    "    cv_skills\n",
    "]\n",
    "\n",
    "#Note: for most of the data, since these are writed by the users, there are different names for the same thing"
   ]
  },
  {
   "cell_type": "code",
   "execution_count": 32,
   "id": "8e2f0e94",
   "metadata": {},
   "outputs": [
    {
     "data": {
      "text/html": [
       "<div>\n",
       "<style scoped>\n",
       "    .dataframe tbody tr th:only-of-type {\n",
       "        vertical-align: middle;\n",
       "    }\n",
       "\n",
       "    .dataframe tbody tr th {\n",
       "        vertical-align: top;\n",
       "    }\n",
       "\n",
       "    .dataframe thead th {\n",
       "        text-align: right;\n",
       "    }\n",
       "</style>\n",
       "<table border=\"1\" class=\"dataframe\">\n",
       "  <thead>\n",
       "    <tr style=\"text-align: right;\">\n",
       "      <th></th>\n",
       "      <th>#</th>\n",
       "      <th>cvno</th>\n",
       "      <th>dogumTarihi</th>\n",
       "      <th>egitimDurumu</th>\n",
       "      <th>EhliyetSinifi</th>\n",
       "      <th>ulke</th>\n",
       "      <th>sehir</th>\n",
       "      <th>ilce</th>\n",
       "      <th>CvGenelPozisyonAdi</th>\n",
       "      <th>bilgisayarBilgileri</th>\n",
       "    </tr>\n",
       "  </thead>\n",
       "  <tbody>\n",
       "    <tr>\n",
       "      <th>0</th>\n",
       "      <td>1</td>\n",
       "      <td>34406</td>\n",
       "      <td>xxxx</td>\n",
       "      <td>UM</td>\n",
       "      <td>B</td>\n",
       "      <td>65</td>\n",
       "      <td>İstanbul(Asya)</td>\n",
       "      <td>Ümraniye</td>\n",
       "      <td>NaN</td>\n",
       "      <td>SAP trainer, Microsoft Office Professional Uyg...</td>\n",
       "    </tr>\n",
       "    <tr>\n",
       "      <th>1</th>\n",
       "      <td>2</td>\n",
       "      <td>245323</td>\n",
       "      <td>xxxx</td>\n",
       "      <td>UM</td>\n",
       "      <td>B</td>\n",
       "      <td>65</td>\n",
       "      <td>İstanbul(Asya)</td>\n",
       "      <td>Maltepe</td>\n",
       "      <td>NaN</td>\n",
       "      <td>ms word, ms excel, logo lks, logo gold, eta, l...</td>\n",
       "    </tr>\n",
       "    <tr>\n",
       "      <th>2</th>\n",
       "      <td>3</td>\n",
       "      <td>327954</td>\n",
       "      <td>xxxx</td>\n",
       "      <td>UM</td>\n",
       "      <td>B</td>\n",
       "      <td>65</td>\n",
       "      <td>Giresun</td>\n",
       "      <td>Merkez</td>\n",
       "      <td>0.0</td>\n",
       "      <td>WINDOWS98,WİNWORD,EXCEL,FORTRAN 77,EWB</td>\n",
       "    </tr>\n",
       "    <tr>\n",
       "      <th>3</th>\n",
       "      <td>4</td>\n",
       "      <td>456295</td>\n",
       "      <td>xxxx</td>\n",
       "      <td>UM</td>\n",
       "      <td>E</td>\n",
       "      <td>65</td>\n",
       "      <td>İstanbul(Asya)</td>\n",
       "      <td>Ümraniye</td>\n",
       "      <td>0.0</td>\n",
       "      <td>WORLD.WİNDOWS</td>\n",
       "    </tr>\n",
       "    <tr>\n",
       "      <th>4</th>\n",
       "      <td>5</td>\n",
       "      <td>716215</td>\n",
       "      <td>xxxx</td>\n",
       "      <td>UM</td>\n",
       "      <td>B</td>\n",
       "      <td>65</td>\n",
       "      <td>Antalya</td>\n",
       "      <td>Konyaaltı</td>\n",
       "      <td>363.0</td>\n",
       "      <td>MS Office(word,excel,power point),Internet Exp...</td>\n",
       "    </tr>\n",
       "  </tbody>\n",
       "</table>\n",
       "</div>"
      ],
      "text/plain": [
       "   #    cvno dogumTarihi egitimDurumu EhliyetSinifi  ulke           sehir  \\\n",
       "0  1   34406        xxxx           UM             B    65  İstanbul(Asya)   \n",
       "1  2  245323        xxxx           UM             B    65  İstanbul(Asya)   \n",
       "2  3  327954        xxxx           UM             B    65         Giresun   \n",
       "3  4  456295        xxxx           UM             E    65  İstanbul(Asya)   \n",
       "4  5  716215        xxxx           UM             B    65         Antalya   \n",
       "\n",
       "        ilce  CvGenelPozisyonAdi  \\\n",
       "0   Ümraniye                 NaN   \n",
       "1    Maltepe                 NaN   \n",
       "2     Merkez                 0.0   \n",
       "3   Ümraniye                 0.0   \n",
       "4  Konyaaltı               363.0   \n",
       "\n",
       "                                 bilgisayarBilgileri  \n",
       "0  SAP trainer, Microsoft Office Professional Uyg...  \n",
       "1  ms word, ms excel, logo lks, logo gold, eta, l...  \n",
       "2             WINDOWS98,WİNWORD,EXCEL,FORTRAN 77,EWB  \n",
       "3                                      WORLD.WİNDOWS  \n",
       "4  MS Office(word,excel,power point),Internet Exp...  "
      ]
     },
     "execution_count": 32,
     "metadata": {},
     "output_type": "execute_result"
    }
   ],
   "source": [
    "cvs.head()"
   ]
  },
  {
   "cell_type": "code",
   "execution_count": 33,
   "id": "4be33e62",
   "metadata": {},
   "outputs": [
    {
     "data": {
      "text/html": [
       "<div>\n",
       "<style scoped>\n",
       "    .dataframe tbody tr th:only-of-type {\n",
       "        vertical-align: middle;\n",
       "    }\n",
       "\n",
       "    .dataframe tbody tr th {\n",
       "        vertical-align: top;\n",
       "    }\n",
       "\n",
       "    .dataframe thead th {\n",
       "        text-align: right;\n",
       "    }\n",
       "</style>\n",
       "<table border=\"1\" class=\"dataframe\">\n",
       "  <thead>\n",
       "    <tr style=\"text-align: right;\">\n",
       "      <th></th>\n",
       "      <th>#</th>\n",
       "      <th>Refnumber</th>\n",
       "      <th>Summary</th>\n",
       "    </tr>\n",
       "  </thead>\n",
       "  <tbody>\n",
       "    <tr>\n",
       "      <th>0</th>\n",
       "      <td>1</td>\n",
       "      <td>34406</td>\n",
       "      <td>Yüksek motivasyonlu. Tüketici tabanlı süreçler...</td>\n",
       "    </tr>\n",
       "    <tr>\n",
       "      <th>1</th>\n",
       "      <td>2</td>\n",
       "      <td>327954</td>\n",
       "      <td>NaN</td>\n",
       "    </tr>\n",
       "    <tr>\n",
       "      <th>2</th>\n",
       "      <td>3</td>\n",
       "      <td>456295</td>\n",
       "      <td>2001 den beri sağlık sektörü gibi zor bir alan...</td>\n",
       "    </tr>\n",
       "    <tr>\n",
       "      <th>3</th>\n",
       "      <td>4</td>\n",
       "      <td>716215</td>\n",
       "      <td>Bünyesinde görev aldığım kurumlarda, öncelikle...</td>\n",
       "    </tr>\n",
       "    <tr>\n",
       "      <th>4</th>\n",
       "      <td>5</td>\n",
       "      <td>873965</td>\n",
       "      <td>NaN</td>\n",
       "    </tr>\n",
       "  </tbody>\n",
       "</table>\n",
       "</div>"
      ],
      "text/plain": [
       "   #  Refnumber                                            Summary\n",
       "0  1      34406  Yüksek motivasyonlu. Tüketici tabanlı süreçler...\n",
       "1  2     327954                                                NaN\n",
       "2  3     456295  2001 den beri sağlık sektörü gibi zor bir alan...\n",
       "3  4     716215  Bünyesinde görev aldığım kurumlarda, öncelikle...\n",
       "4  5     873965                                                NaN"
      ]
     },
     "execution_count": 33,
     "metadata": {},
     "output_type": "execute_result"
    }
   ],
   "source": [
    "cv_summaries.head()"
   ]
  },
  {
   "cell_type": "code",
   "execution_count": 35,
   "id": "28d07834",
   "metadata": {
    "scrolled": true
   },
   "outputs": [
    {
     "data": {
      "text/html": [
       "<div>\n",
       "<style scoped>\n",
       "    .dataframe tbody tr th:only-of-type {\n",
       "        vertical-align: middle;\n",
       "    }\n",
       "\n",
       "    .dataframe tbody tr th {\n",
       "        vertical-align: top;\n",
       "    }\n",
       "\n",
       "    .dataframe thead th {\n",
       "        text-align: right;\n",
       "    }\n",
       "</style>\n",
       "<table border=\"1\" class=\"dataframe\">\n",
       "  <thead>\n",
       "    <tr style=\"text-align: right;\">\n",
       "      <th></th>\n",
       "      <th>#</th>\n",
       "      <th>cvno</th>\n",
       "      <th>baslangic</th>\n",
       "      <th>bitis</th>\n",
       "      <th>FirmaAdi</th>\n",
       "      <th>IsTecrubeMetni</th>\n",
       "      <th>CalismaSekli</th>\n",
       "      <th>SektorAdi</th>\n",
       "      <th>pozisyonadi</th>\n",
       "      <th>sehirKodu</th>\n",
       "    </tr>\n",
       "  </thead>\n",
       "  <tbody>\n",
       "    <tr>\n",
       "      <th>0</th>\n",
       "      <td>1</td>\n",
       "      <td>34406</td>\n",
       "      <td>200302</td>\n",
       "      <td>200503</td>\n",
       "      <td>Yapı Kredi Sigorta A.Ş.</td>\n",
       "      <td>Birey ve kurumlara yönelik risk analizlerini y...</td>\n",
       "      <td>NaN</td>\n",
       "      <td>Sigortacılık</td>\n",
       "      <td>Bireysel Pazarlama</td>\n",
       "      <td>34.0</td>\n",
       "    </tr>\n",
       "    <tr>\n",
       "      <th>1</th>\n",
       "      <td>2</td>\n",
       "      <td>34406</td>\n",
       "      <td>200006</td>\n",
       "      <td>200212</td>\n",
       "      <td>Doğuş Otomotiv Holding A.Ş.</td>\n",
       "      <td>Şikayet yönetimi, firma müşterilerinin ürün ba...</td>\n",
       "      <td>F</td>\n",
       "      <td>Otomotiv</td>\n",
       "      <td>Müşteri Temsilcisi</td>\n",
       "      <td>34.0</td>\n",
       "    </tr>\n",
       "    <tr>\n",
       "      <th>2</th>\n",
       "      <td>3</td>\n",
       "      <td>34406</td>\n",
       "      <td>200603</td>\n",
       "      <td>200806</td>\n",
       "      <td>İNTERFARMA A.Ş.</td>\n",
       "      <td>Bölge müdürlüğüne bağlı bayiler (Marmara- Batı...</td>\n",
       "      <td>F</td>\n",
       "      <td>Sağlık</td>\n",
       "      <td>Depo ve Lojistik Yöneticisi</td>\n",
       "      <td>0.0</td>\n",
       "    </tr>\n",
       "    <tr>\n",
       "      <th>3</th>\n",
       "      <td>4</td>\n",
       "      <td>34406</td>\n",
       "      <td>200806</td>\n",
       "      <td>201209</td>\n",
       "      <td>Covidien Sağlık A.Ş.</td>\n",
       "      <td>• Satış sonrası hizmetlerin yürütülmesi&lt;br /&gt;\\...</td>\n",
       "      <td>F</td>\n",
       "      <td>Medikal Ürünler</td>\n",
       "      <td>Müşteri İlişkileri Uzmanı</td>\n",
       "      <td>34.0</td>\n",
       "    </tr>\n",
       "    <tr>\n",
       "      <th>4</th>\n",
       "      <td>5</td>\n",
       "      <td>34406</td>\n",
       "      <td>201210</td>\n",
       "      <td>201304</td>\n",
       "      <td>Covidien Services Europe Ltd.</td>\n",
       "      <td>&lt;span style=\"font-family: symbol\"&gt;&lt;span style=...</td>\n",
       "      <td>F</td>\n",
       "      <td>Tıbbi Cihaz ve Malzemeler</td>\n",
       "      <td>Müşteri Hizmetleri Koordinatörü</td>\n",
       "      <td>0.0</td>\n",
       "    </tr>\n",
       "  </tbody>\n",
       "</table>\n",
       "</div>"
      ],
      "text/plain": [
       "   #   cvno  baslangic   bitis                       FirmaAdi  \\\n",
       "0  1  34406     200302  200503        Yapı Kredi Sigorta A.Ş.   \n",
       "1  2  34406     200006  200212    Doğuş Otomotiv Holding A.Ş.   \n",
       "2  3  34406     200603  200806                İNTERFARMA A.Ş.   \n",
       "3  4  34406     200806  201209           Covidien Sağlık A.Ş.   \n",
       "4  5  34406     201210  201304  Covidien Services Europe Ltd.   \n",
       "\n",
       "                                      IsTecrubeMetni CalismaSekli  \\\n",
       "0  Birey ve kurumlara yönelik risk analizlerini y...          NaN   \n",
       "1  Şikayet yönetimi, firma müşterilerinin ürün ba...            F   \n",
       "2  Bölge müdürlüğüne bağlı bayiler (Marmara- Batı...            F   \n",
       "3  • Satış sonrası hizmetlerin yürütülmesi<br />\\...            F   \n",
       "4  <span style=\"font-family: symbol\"><span style=...            F   \n",
       "\n",
       "                   SektorAdi                      pozisyonadi  sehirKodu  \n",
       "0               Sigortacılık              Bireysel Pazarlama        34.0  \n",
       "1                   Otomotiv              Müşteri Temsilcisi        34.0  \n",
       "2                     Sağlık      Depo ve Lojistik Yöneticisi        0.0  \n",
       "3            Medikal Ürünler        Müşteri İlişkileri Uzmanı       34.0  \n",
       "4  Tıbbi Cihaz ve Malzemeler  Müşteri Hizmetleri Koordinatörü        0.0  "
      ]
     },
     "execution_count": 35,
     "metadata": {},
     "output_type": "execute_result"
    }
   ],
   "source": [
    "cv_experiences.head()"
   ]
  },
  {
   "cell_type": "markdown",
   "id": "bbe22c0d",
   "metadata": {},
   "source": [
    "# Universities"
   ]
  },
  {
   "cell_type": "code",
   "execution_count": 97,
   "id": "0b635788",
   "metadata": {},
   "outputs": [
    {
     "data": {
      "text/html": [
       "<div>\n",
       "<style scoped>\n",
       "    .dataframe tbody tr th:only-of-type {\n",
       "        vertical-align: middle;\n",
       "    }\n",
       "\n",
       "    .dataframe tbody tr th {\n",
       "        vertical-align: top;\n",
       "    }\n",
       "\n",
       "    .dataframe thead th {\n",
       "        text-align: right;\n",
       "    }\n",
       "</style>\n",
       "<table border=\"1\" class=\"dataframe\">\n",
       "  <thead>\n",
       "    <tr style=\"text-align: right;\">\n",
       "      <th></th>\n",
       "      <th>#</th>\n",
       "      <th>cvno</th>\n",
       "      <th>universiteAdi</th>\n",
       "      <th>departmanAdi</th>\n",
       "      <th>baslamaTarihi</th>\n",
       "      <th>bitisTarihi</th>\n",
       "      <th>ogrenimDerecesi</th>\n",
       "      <th>ciftDal</th>\n",
       "    </tr>\n",
       "  </thead>\n",
       "  <tbody>\n",
       "    <tr>\n",
       "      <th>0</th>\n",
       "      <td>1</td>\n",
       "      <td>34406</td>\n",
       "      <td>Anadolu Üniversitesi</td>\n",
       "      <td>Maliye</td>\n",
       "      <td>19951000.0</td>\n",
       "      <td>19991000.0</td>\n",
       "      <td>2</td>\n",
       "      <td>NaN</td>\n",
       "    </tr>\n",
       "    <tr>\n",
       "      <th>1</th>\n",
       "      <td>2</td>\n",
       "      <td>34406</td>\n",
       "      <td>Balıkesir Üniversitesi</td>\n",
       "      <td>Muhasebe</td>\n",
       "      <td>19931001.0</td>\n",
       "      <td>19950701.0</td>\n",
       "      <td>1</td>\n",
       "      <td>NaN</td>\n",
       "    </tr>\n",
       "    <tr>\n",
       "      <th>2</th>\n",
       "      <td>3</td>\n",
       "      <td>34406</td>\n",
       "      <td>İstanbul Üniversitesi (İÜ)</td>\n",
       "      <td>Çocuk Gelişimi ve Eğitimi Öğretmenliği</td>\n",
       "      <td>20180901.0</td>\n",
       "      <td>NaN</td>\n",
       "      <td>2</td>\n",
       "      <td>NaN</td>\n",
       "    </tr>\n",
       "    <tr>\n",
       "      <th>3</th>\n",
       "      <td>4</td>\n",
       "      <td>245323</td>\n",
       "      <td>Anadolu Üniversitesi</td>\n",
       "      <td>İşletme</td>\n",
       "      <td>19891100.0</td>\n",
       "      <td>20030500.0</td>\n",
       "      <td>2</td>\n",
       "      <td>NaN</td>\n",
       "    </tr>\n",
       "    <tr>\n",
       "      <th>4</th>\n",
       "      <td>5</td>\n",
       "      <td>327954</td>\n",
       "      <td>İnönü Üniversitesi</td>\n",
       "      <td>Elektrik/Elektronik Mühendisliği</td>\n",
       "      <td>19930900.0</td>\n",
       "      <td>19970700.0</td>\n",
       "      <td>2</td>\n",
       "      <td>NaN</td>\n",
       "    </tr>\n",
       "  </tbody>\n",
       "</table>\n",
       "</div>"
      ],
      "text/plain": [
       "   #    cvno               universiteAdi  \\\n",
       "0  1   34406        Anadolu Üniversitesi   \n",
       "1  2   34406      Balıkesir Üniversitesi   \n",
       "2  3   34406  İstanbul Üniversitesi (İÜ)   \n",
       "3  4  245323        Anadolu Üniversitesi   \n",
       "4  5  327954          İnönü Üniversitesi   \n",
       "\n",
       "                             departmanAdi  baslamaTarihi  bitisTarihi  \\\n",
       "0                                  Maliye     19951000.0   19991000.0   \n",
       "1                                Muhasebe     19931001.0   19950701.0   \n",
       "2  Çocuk Gelişimi ve Eğitimi Öğretmenliği     20180901.0          NaN   \n",
       "3                                 İşletme     19891100.0   20030500.0   \n",
       "4        Elektrik/Elektronik Mühendisliği     19930900.0   19970700.0   \n",
       "\n",
       "   ogrenimDerecesi ciftDal  \n",
       "0                2     NaN  \n",
       "1                1     NaN  \n",
       "2                2     NaN  \n",
       "3                2     NaN  \n",
       "4                2     NaN  "
      ]
     },
     "execution_count": 97,
     "metadata": {},
     "output_type": "execute_result"
    }
   ],
   "source": [
    "cv_universities.head()"
   ]
  },
  {
   "cell_type": "code",
   "execution_count": 131,
   "id": "84744c78",
   "metadata": {},
   "outputs": [
    {
     "name": "stdout",
     "output_type": "stream",
     "text": [
      "('Anadolu Üniversitesi', 808)\n",
      "('İstanbul Üniversitesi (İÜ)', 184)\n",
      "('Marmara Üniversitesi', 115)\n",
      "('Kocaeli Üniversitesi', 83)\n",
      "('Sakarya Üniversitesi', 69)\n",
      "('Atatürk Üniversitesi', 54)\n",
      "('Trakya Üniversitesi', 52)\n",
      "('Dumlupınar Üniversitesi', 51)\n",
      "('Beykent Üniversitesi', 49)\n",
      "('Yıldız Teknik Üniversitesi (YTÜ)', 45)\n",
      "('İstanbul Aydın Üniversitesi', 39)\n",
      "('Uludağ Üniversitesi', 33)\n",
      "('Okan Üniversitesi', 32)\n",
      "('Çanakkale 18 Mart Üniversitesi', 32)\n",
      "('Yeditepe Üniversitesi', 30)\n",
      "('Balıkesir Üniversitesi', 30)\n",
      "('İstanbul Ticaret Üniversitesi', 30)\n",
      "('İstanbul Teknik Üniversitesi (İTÜ)', 27)\n",
      "('Karadeniz Teknik Üniversitesi (KTÜ)', 25)\n",
      "('Selçuk Üniversitesi', 24)\n",
      "('Süleyman Demirel Üniversitesi', 23)\n",
      "('Abant İzzet Baysal Üniversitesi', 22)\n",
      "('Maltepe Üniversitesi', 22)\n",
      "('Nişantaşı Üniversitesi', 22)\n",
      "('İstanbul Arel Üniversitesi', 20)\n",
      "('Dokuz Eylül Üniversitesi', 20)\n",
      "('Namık Kemal Üniversitesi', 19)\n",
      "('Bahçeşehir Üniversitesi', 19)\n",
      "('Afyon Kocatepe Üniversitesi', 19)\n",
      "('İstanbul Medipol Üniversitesi ', 19)\n",
      "('Bilecik Şeyh Edebali Üniversitesi', 18)\n",
      "('Işık Üniversitesi', 18)\n",
      "('Düzce Üniversitesi', 17)\n",
      "('Gazi Üniversitesi', 17)\n",
      "('Adnan Menderes Üniversitesi', 17)\n",
      "('Karabük Üniversitesi', 15)\n",
      "('Doğuş Üniversitesi', 14)\n",
      "('İstanbul Bilgi Üniversitesi', 14)\n",
      "('İstanbul Gelişim Üniversitesi', 14)\n",
      "('Eskişehir Osmangazi Üniversitesi', 13)\n",
      "('Gedik Üniversitesi ', 13)\n",
      "('Haliç Üniversitesi', 13)\n",
      "('Bülent Ecevit Üniversitesi', 12)\n",
      "('Gaziosmanpaşa Üniversitesi', 12)\n",
      "('Ege Üniversitesi', 12)\n",
      "('İstanbul Üniversitesi', 12)\n",
      "('Hacettepe Üniversitesi', 12)\n",
      "('Istanbul Technical University (ITU)', 12)\n",
      "('Üsküdar Üniversitesi ', 12)\n",
      "('İstanbul Kültür Üniversitesi', 12)\n",
      "('Mehmet Akif Ersoy Üniversitesi', 11)\n",
      "('Pamukkale Üniversitesi', 11)\n",
      "('Kırklareli Üniversitesi', 11)\n",
      "('Ondokuz Mayıs Üniversitesi', 11)\n",
      "('Muğla Sıtkı Koçman Üniversitesi', 11)\n",
      "('Çukurova Üniversitesi', 10)\n",
      "('Erciyes Üniversitesi', 10)\n",
      "('Ankara Üniversitesi', 9)\n",
      "('Manisa Celal Bayar Üniversitesi', 9)\n",
      "('İnönü Üniversitesi', 9)\n",
      "('Cumhuriyet Üniversitesi', 9)\n",
      "('Akdeniz Üniversitesi', 9)\n",
      "('Mersin Üniversitesi', 9)\n",
      "('İstanbul Medeniyet Üniversitesi ', 8)\n",
      "('Karadeniz Teknik Üniversitesi', 8)\n",
      "('Yalova Üniversitesi ', 8)\n",
      "('Aksaray Üniversitesi', 7)\n",
      "('Mimar Sinan Güzel Sanatlar Üniversitesi', 7)\n",
      "('Yıldız Technical University (YTU)', 7)\n",
      "('Karamanoğlu Mehmetbey Üniversitesi', 7)\n",
      "('Orta Doğu Teknik Üniversitesi (ODTÜ)', 6)\n",
      "('Istanbul University (IU)', 6)\n",
      "('Uşak Üniversitesi', 6)\n",
      "('İstanbul Sabahattin Zaim Üniversitesi ', 6)\n",
      "('Ordu Üniversitesi', 6)\n",
      "('Sivas Cumhuriyet Üniversitesi', 6)\n",
      "('Özyeğin Üniversitesi', 6)\n",
      "('Boğaziçi Üniversitesi', 6)\n",
      "('Beykoz Lojistik M.Y.O', 6)\n",
      "('Gebze Teknik Üniversitesi', 6)\n",
      "('Zonguldak Karaelmas - Bülent Ecevit Üniv', 6)\n",
      "('Fırat Üniversitesi', 5)\n",
      "('Atılım Üniversitesi', 5)\n",
      "('Giresun Üniversitesi', 5)\n",
      "('Kırıkkale Üniversitesi', 5)\n",
      "('Beykoz Üniversitesi', 5)\n",
      "('Sabancı Üniversitesi', 5)\n",
      "('İstanbul Şişli Meslek Yüksekokulu', 5)\n",
      "('Girne Amerikan Üniversitesi', 5)\n",
      "('Middle East Technical University (METU)', 4)\n",
      "('Muğla Üniversitesi', 4)\n",
      "('Ataşehir Adıgüzel Meslek Yüksekokulu', 4)\n",
      "('Gaziantep Üniversitesi', 4)\n",
      "('İstanbul Üniversitesi - Cerrahpaşa', 4)\n",
      "('Kara Harp Okulu', 4)\n",
      "('Anadolu University', 4)\n",
      "('Kadir Has Üniversitesi', 4)\n",
      "('Kastamonu Üniversitesi', 4)\n",
      "('Hitit Üniversitesi', 4)\n",
      "('Dogus University', 4)\n",
      "('Başkent Üniversitesi', 4)\n",
      "('Ahmet Yesevi Üniversitesi', 3)\n",
      "('Zonguldak Karaelmas Üniversitesi', 3)\n",
      "('Yalova Üniversitesi', 3)\n",
      "('Kafkas Üniversitesi', 3)\n",
      "('İstanbul Esenyurt Üniversitesi', 3)\n",
      "('Kahramanmaraş Sütçü İmam Üniversitesi', 3)\n",
      "('Bartın Üniversitesi', 3)\n",
      "('Galatasaray Üniversitesi', 3)\n",
      "('Isparta Uygulamalı Bilimler Üniversitesi', 3)\n",
      "('İhsan Doğramacı Bilkent Üniversitesi', 3)\n",
      "('Gedik Üniversitesi', 3)\n",
      "('Kavram Meslek Yüksekokulu', 3)\n",
      "('Altınbaş Üniversitesi', 3)\n",
      "('Kadir Has University', 3)\n",
      "('Abdullah Gül Üniversitesi', 3)\n",
      "('Dicle Üniversitesi', 3)\n",
      "('Niğde Ömer Halisdemir Üniversitesi', 3)\n",
      "('Yildiz Teknik Üniversitesi', 3)\n",
      "('Boğaziçi University', 3)\n",
      "('TOBB Ekonomi ve Tek. Üniversitesi', 2)\n",
      "('Sakarya University', 2)\n",
      "('Deniz Harp Okulu', 2)\n",
      "('EU Business School', 2)\n",
      "('Yaşar  Üniversitesi', 2)\n",
      "('Plato Meslek Yüksek Okulu', 2)\n",
      "('Zonguldak Karaelmas - Bülent Ecevit Üniversitesi', 2)\n",
      "('İstanbul Yeni Yüzyıl Üniversitesi', 2)\n",
      "('Gümüşhane Üniversitesi ', 2)\n",
      "('Hasan Kalyoncu - Gazikent Üniversitesi', 2)\n",
      "('Avrupa Meslek Yüksekokulu', 2)\n",
      "('Üsküdar Üniversitesi', 2)\n",
      "('Doğu Akdeniz Üniversitesi', 2)\n",
      "('Dokuz Eylül University', 2)\n",
      "('İstanbul Gelişim M.Y.O', 2)\n",
      "('Sabanci University', 2)\n",
      "('İstanbul Şehir University ', 2)\n",
      "('Sağlık Bilimleri Üniversitesi', 2)\n",
      "('Mustafa Kemal Üniversitesi', 2)\n",
      "('Çağ Üniversitesi', 2)\n",
      "('Galatasaray University', 2)\n",
      "('Amasya Üniversitesi', 2)\n",
      "('İstanbul Rumeli Üniversitesi', 2)\n",
      "('Selcuk University', 2)\n",
      "('Diğer', 2)\n",
      "('Yüzüncü Yıl Üniversitesi', 2)\n",
      "('Celal Bayar Üniversitesi', 2)\n",
      "('Marmara University', 2)\n",
      "('Rize Recep Tayyip Erdoğan Üniversitesi', 2)\n",
      "(' İzmir Bakırçay Üniversitesi', 2)\n",
      "('Süleyman Demirel University', 2)\n",
      "('İstanbul Ayvansaray Üniversitesi', 2)\n",
      "('İhsan Doğramacı Bilkent University', 2)\n",
      "('İstinye Üniversitesi ', 2)\n",
      "('Fatih Sultan Mehmet Üniversitesi ', 2)\n",
      "('Gebze Technical University', 2)\n",
      "('Ahi Evran Üniversitesi', 2)\n",
      "('Kırgizistan-Türkiye Manas Üniversitesi', 1)\n",
      "('Eskişehir Technical University', 1)\n",
      "('Tehran Üniversitesi', 1)\n",
      "('Tabriz university', 1)\n",
      "('Adıyaman Üniversitesi', 1)\n",
      "('Imam jaafar Alsadiq College of information Technol', 1)\n",
      "('National Defense University', 1)\n",
      "('Tebriz Üniversitesi', 1)\n",
      "('Avrasya University', 1)\n",
      "('Sorbonne Üniversitesi', 1)\n",
      "(' Jandarma ve Sahil Güvenlik Akademisi', 1)\n",
      "('Hava Harp Okulu', 1)\n",
      "('Adana Bilim ve Teknoloji Üniversitesi', 1)\n",
      "('İskenderun Teknik Üniversitesi', 1)\n",
      "('Tabriz University', 1)\n",
      "('izmir yüksek teknoloji enstitüsü ', 1)\n",
      "('Kapadokya Üniversitesi', 1)\n",
      "('Belarus Minsk Devlet Tıp Üniversitesi', 1)\n",
      "('Namık Kemal University', 1)\n",
      "('Shanghai Jiao Tong Üniversitesi', 1)\n",
      "('Ankara Yıldırım Beyazıt Üniversitesi', 1)\n",
      "('Yakın Doğu Üniversitesi', 1)\n",
      "('Okan University', 1)\n",
      "('Milano Politeknik Üniversitesi', 1)\n",
      "('Poznan Teknoloji Üniversitesi', 1)\n",
      "('Bayburt Üniversitesi', 1)\n",
      "('Saad Dahleb Üniversitesi', 1)\n",
      "('Erasmus University', 1)\n",
      "('Özyeğin University', 1)\n",
      "('Hochschule Karlsruhe Technik und Wirtschaft', 1)\n",
      "('Goldsmiths Londra Üniversitesi', 1)\n",
      "('Cracow University of Technology', 1)\n",
      "('Izmir University of Economics', 1)\n",
      "('National University Of Ireland, Maynooth', 1)\n",
      "('Yeditepe University', 1)\n",
      "('George Brown Üniversitesi', 1)\n",
      "('Toronto Üniversitesi ', 1)\n",
      "('University of Ontario', 1)\n",
      "('Acıbadem Üniversitesi ', 1)\n",
      "('Polytechnical Institute of Coimbra', 1)\n",
      "('IBS Uluslararası İşletme Okulu Budapeşte', 1)\n",
      "('Istanbul Kultur University', 1)\n",
      "('Nebrija Universidad', 1)\n",
      "('CHUNG ANG UNIVERSITY', 1)\n",
      "('Bandırma Onyedi Eylül Üniversitesi', 1)\n",
      "('Artvin Çoruh Üniversitesi', 1)\n",
      "('The University of Queensland', 1)\n",
      "('İstanbul Medipol University ', 1)\n",
      "('İzmir Üniversitesi', 1)\n",
      "(' Roehampton University ', 1)\n",
      "('Institute of Technology Tralee', 1)\n",
      "('University of Roma - La Sapienza', 1)\n",
      "('İKMAL VE MALİYE OKUL K.LIĞI', 1)\n",
      "('Gebze Yüksek Teknoloji Enstitüsü', 1)\n",
      "('Yüksek İhtisas Üniversitesi', 1)\n",
      "('Kocaeli University', 1)\n",
      "('Fatih University', 1)\n",
      "('Technical University Munich', 1)\n",
      "('Uluslararası Saraybosna Üniversitesi', 1)\n",
      "('Nevşehir Üniversitesi', 1)\n",
      "('Sinop Üniversitesi ', 1)\n",
      "('Wroclaw University of Technology', 1)\n",
      "('Toros Üniversitesi ', 1)\n",
      "('Dundee Üniversitesi', 1)\n",
      "('International Lebanon Üniversitesi', 1)\n",
      "('University Paris-Est Creteil', 1)\n",
      "('INSA de Lyon', 1)\n",
      "('Eskişehir Açıköğretim Fakültesi', 1)\n",
      "('eskişehir universitesi', 1)\n",
      "('Eskisehir Osmangazi University', 1)\n",
      "('-Diğer', 1)\n",
      "('Loyola Marymount Üniversitesi', 1)\n",
      "('Koç Üniversitesi', 1)\n",
      "('Muş Alparslan Üniversitesi', 1)\n",
      "('Instituto Politecnico do Cavado e do Ave', 1)\n",
      "('Bozok Üniversitesi', 1)\n",
      "('Griffith Üniversitesi', 1)\n",
      "('Karadeniz Technical University', 1)\n",
      "('GOP', 1)\n",
      "('Wales University', 1)\n",
      "('Deniz Astsubay Meslek Yüksek Okulu', 1)\n",
      "('Gazi University', 1)\n",
      "('aöf', 1)\n",
      "('Newport Üniversitesi', 1)\n",
      "('BİLİMSEL DENİZCİLİK', 1)\n",
      "('Niğde Üniversitesi', 1)\n",
      "('University of Southern Denmark', 1)\n",
      "('Sorbonne University', 1)\n",
      "('Jyväskylä Uyg. Bilimler Üni./ Finlandiya', 1)\n",
      "('University of Southern Queensland', 1)\n",
      "('İstanbul Teknik Üniversitesi', 1)\n",
      "('University of Macerata', 1)\n",
      "('Rize Üniversitesi', 1)\n",
      "('Ufuk Üniversitesi', 1)\n",
      "('Bilkent Üniversitesi', 1)\n",
      "('Siirt Üniversitesi', 1)\n",
      "('ANADOLU ÜNV. iŞLETME', 1)\n",
      "(' Sciences Po', 1)\n",
      "('İstanbul 29 Mayıs Üniversitesi', 1)\n",
      "('lüleburgaz myo', 1)\n",
      "('Turgut Özal Üniversitesi', 1)\n",
      "('Ardahan Üniversitesi', 1)\n",
      "('İstanbul Bilim Üniversitesi', 1)\n",
      "('Ömer Halisdemir Üniversitesi', 1)\n",
      "('Západoceská univerzita v Plzni (ZCU)', 1)\n",
      "('Tunceli Üniversitesi', 1)\n",
      "('Bahcesehir University', 1)\n",
      "('Lefke Avrupa Üniversitesi', 1)\n",
      "('Mersin Üniversitesi-Erdemli Meslek Yüksekokulu', 1)\n",
      "('Ön lisans', 1)\n",
      "('Darmstadt Teknik Üniversitesi', 1)\n",
      "('Çankırı Karatekin Üniversitesi', 1)\n",
      "('Anadolu Üniversitesi-Porsuk Meslek Yüksekokulu', 1)\n",
      "('Dalarna University', 1)\n",
      "('KTO Karatay University', 1)\n",
      "('Isparta University of Applied Sciences', 1)\n",
      "('Trabzon Üniversitesi', 1)\n",
      "('wloskie academica tecnica', 1)\n",
      "('İstanbul Şehir Üniversitesi ', 1)\n",
      "('UNIVERSITY OF CRETE', 1)\n",
      "('İstanbul Sabahattin Zaim Üniversitesi', 1)\n",
      "('Sakarya Uygulamalı Bilimler Üniversitesi', 1)\n",
      "('Milli Savunma Üniversitesi', 1)\n",
      "('Plato Meslek Yüksekokulu', 1)\n",
      "('Fatih Üniversitesi', 1)\n",
      "('Bakü Devlet Üniversitesi', 1)\n",
      "('Pedagogical University of Cracow', 1)\n",
      "('Klaipeda Üniversitesi', 1)\n",
      "('Kodolanji Janos University', 1)\n",
      "('York Üniversitesi', 1)\n",
      "('Harran Üniversitesi', 1)\n",
      "('Istanbul Bilgi University', 1)\n",
      "('Other', 1)\n",
      "('Universidade NOVA de Lisboa', 1)\n",
      "('Ege University', 1)\n",
      "('International School of Management', 1)\n",
      "('Portland State Üniversitesi', 1)\n",
      "('Portland State University', 1)\n",
      "('Beira Interior Üniversitesi', 1)\n",
      "('Beykent University', 1)\n"
     ]
    }
   ],
   "source": [
    "for i in cv_universities['universiteAdi'].value_counts().iteritems():\n",
    "    print(i)"
   ]
  },
  {
   "cell_type": "code",
   "execution_count": 95,
   "id": "4ed6dcb0",
   "metadata": {},
   "outputs": [
    {
     "data": {
      "text/plain": [
       "İstanbul Üniversitesi (İÜ)                184\n",
       "İstanbul Aydın Üniversitesi                39\n",
       "İstanbul Ticaret Üniversitesi              30\n",
       "İstanbul Teknik Üniversitesi (İTÜ)         27\n",
       "İstanbul Arel Üniversitesi                 20\n",
       "İstanbul Medipol Üniversitesi              19\n",
       "İstanbul Gelişim Üniversitesi              14\n",
       "İstanbul Bilgi Üniversitesi                14\n",
       "İstanbul Üniversitesi                      12\n",
       "Istanbul Technical University (ITU)        12\n",
       "İstanbul Kültür Üniversitesi               12\n",
       "İstanbul Medeniyet Üniversitesi             8\n",
       "İstanbul Sabahattin Zaim Üniversitesi       6\n",
       "Istanbul University (IU)                    6\n",
       "İstanbul Şişli Meslek Yüksekokulu           5\n",
       "İstanbul Üniversitesi - Cerrahpaşa          4\n",
       "İstanbul Esenyurt Üniversitesi              3\n",
       "İstanbul Rumeli Üniversitesi                2\n",
       "İstanbul Ayvansaray Üniversitesi            2\n",
       "İstanbul Yeni Yüzyıl Üniversitesi           2\n",
       "İstanbul Gelişim M.Y.O                      2\n",
       "İstanbul Şehir University                   2\n",
       "İstanbul Teknik Üniversitesi                1\n",
       "İstanbul 29 Mayıs Üniversitesi              1\n",
       "İstanbul Bilim Üniversitesi                 1\n",
       "Istanbul Bilgi University                   1\n",
       "İstanbul Sabahattin Zaim Üniversitesi       1\n",
       "İstanbul Şehir Üniversitesi                 1\n",
       "Istanbul Kultur University                  1\n",
       "İstanbul Medipol University                 1\n",
       "Name: universiteAdi, dtype: int64"
      ]
     },
     "execution_count": 95,
     "metadata": {},
     "output_type": "execute_result"
    }
   ],
   "source": [
    "cv_universities.where(\n",
    "    cv_universities['universiteAdi'].str.contains('Istanbul') | \n",
    "    cv_universities['universiteAdi'].str.contains('İstanbul')\n",
    ")['universiteAdi'].value_counts()"
   ]
  },
  {
   "cell_type": "code",
   "execution_count": 56,
   "id": "5c3a2fa3",
   "metadata": {},
   "outputs": [
    {
     "data": {
      "text/plain": [
       "İşletme                                             489\n",
       "İktisat                                             146\n",
       "Çalışma Ekonomisi ve Endüstri İlişkileri             65\n",
       "Muhasebe (MYO)                                       59\n",
       "Uluslararası İlişkiler                               58\n",
       "                                                   ... \n",
       "Anestezi Teknikerliği (MYO)                           1\n",
       "Ormancılık (MYO)                                      1\n",
       "Comparative Literature                                1\n",
       "Kimya Teknolojisi (MYO)                               1\n",
       "Psikolojik Danışmanlık ve Rehberlik Öğretmenliği      1\n",
       "Name: departmanAdi, Length: 490, dtype: int64"
      ]
     },
     "execution_count": 56,
     "metadata": {},
     "output_type": "execute_result"
    }
   ],
   "source": [
    "cv_universities['departmanAdi'].value_counts()"
   ]
  },
  {
   "cell_type": "markdown",
   "id": "422ffdbb",
   "metadata": {},
   "source": [
    "# Languages"
   ]
  },
  {
   "cell_type": "code",
   "execution_count": 38,
   "id": "a3fe1add",
   "metadata": {
    "scrolled": true
   },
   "outputs": [
    {
     "data": {
      "text/html": [
       "<div>\n",
       "<style scoped>\n",
       "    .dataframe tbody tr th:only-of-type {\n",
       "        vertical-align: middle;\n",
       "    }\n",
       "\n",
       "    .dataframe tbody tr th {\n",
       "        vertical-align: top;\n",
       "    }\n",
       "\n",
       "    .dataframe thead th {\n",
       "        text-align: right;\n",
       "    }\n",
       "</style>\n",
       "<table border=\"1\" class=\"dataframe\">\n",
       "  <thead>\n",
       "    <tr style=\"text-align: right;\">\n",
       "      <th></th>\n",
       "      <th>#</th>\n",
       "      <th>cvno</th>\n",
       "      <th>LangAdi</th>\n",
       "      <th>konusma</th>\n",
       "      <th>yazma</th>\n",
       "      <th>yazma.1</th>\n",
       "      <th>anadilimi</th>\n",
       "    </tr>\n",
       "  </thead>\n",
       "  <tbody>\n",
       "    <tr>\n",
       "      <th>0</th>\n",
       "      <td>1</td>\n",
       "      <td>34406</td>\n",
       "      <td>İngilizce</td>\n",
       "      <td>4</td>\n",
       "      <td>4</td>\n",
       "      <td>4</td>\n",
       "      <td>False</td>\n",
       "    </tr>\n",
       "    <tr>\n",
       "      <th>1</th>\n",
       "      <td>2</td>\n",
       "      <td>245323</td>\n",
       "      <td>İngilizce</td>\n",
       "      <td>3</td>\n",
       "      <td>3</td>\n",
       "      <td>3</td>\n",
       "      <td>False</td>\n",
       "    </tr>\n",
       "    <tr>\n",
       "      <th>2</th>\n",
       "      <td>3</td>\n",
       "      <td>327954</td>\n",
       "      <td>İngilizce</td>\n",
       "      <td>3</td>\n",
       "      <td>3</td>\n",
       "      <td>3</td>\n",
       "      <td>False</td>\n",
       "    </tr>\n",
       "    <tr>\n",
       "      <th>3</th>\n",
       "      <td>4</td>\n",
       "      <td>456295</td>\n",
       "      <td>İngilizce</td>\n",
       "      <td>3</td>\n",
       "      <td>3</td>\n",
       "      <td>3</td>\n",
       "      <td>False</td>\n",
       "    </tr>\n",
       "    <tr>\n",
       "      <th>4</th>\n",
       "      <td>5</td>\n",
       "      <td>716215</td>\n",
       "      <td>İngilizce</td>\n",
       "      <td>3</td>\n",
       "      <td>3</td>\n",
       "      <td>3</td>\n",
       "      <td>False</td>\n",
       "    </tr>\n",
       "  </tbody>\n",
       "</table>\n",
       "</div>"
      ],
      "text/plain": [
       "   #    cvno    LangAdi  konusma  yazma  yazma.1 anadilimi\n",
       "0  1   34406  İngilizce        4      4        4     False\n",
       "1  2  245323  İngilizce        3      3        3     False\n",
       "2  3  327954  İngilizce        3      3        3     False\n",
       "3  4  456295  İngilizce        3      3        3     False\n",
       "4  5  716215  İngilizce        3      3        3     False"
      ]
     },
     "execution_count": 38,
     "metadata": {},
     "output_type": "execute_result"
    }
   ],
   "source": [
    "cv_languages.head()"
   ]
  },
  {
   "cell_type": "code",
   "execution_count": 54,
   "id": "3e927f2a",
   "metadata": {},
   "outputs": [
    {
     "data": {
      "text/html": [
       "<div>\n",
       "<style scoped>\n",
       "    .dataframe tbody tr th:only-of-type {\n",
       "        vertical-align: middle;\n",
       "    }\n",
       "\n",
       "    .dataframe tbody tr th {\n",
       "        vertical-align: top;\n",
       "    }\n",
       "\n",
       "    .dataframe thead th {\n",
       "        text-align: right;\n",
       "    }\n",
       "</style>\n",
       "<table border=\"1\" class=\"dataframe\">\n",
       "  <thead>\n",
       "    <tr style=\"text-align: right;\">\n",
       "      <th></th>\n",
       "      <th>#</th>\n",
       "      <th>cvno</th>\n",
       "      <th>konusma</th>\n",
       "      <th>yazma</th>\n",
       "      <th>yazma.1</th>\n",
       "    </tr>\n",
       "  </thead>\n",
       "  <tbody>\n",
       "    <tr>\n",
       "      <th>count</th>\n",
       "      <td>2053.000000</td>\n",
       "      <td>2.053000e+03</td>\n",
       "      <td>2053.000000</td>\n",
       "      <td>2053.000000</td>\n",
       "      <td>2053.000000</td>\n",
       "    </tr>\n",
       "    <tr>\n",
       "      <th>mean</th>\n",
       "      <td>1027.000000</td>\n",
       "      <td>1.032608e+08</td>\n",
       "      <td>3.191914</td>\n",
       "      <td>3.191914</td>\n",
       "      <td>3.191914</td>\n",
       "    </tr>\n",
       "    <tr>\n",
       "      <th>std</th>\n",
       "      <td>592.794371</td>\n",
       "      <td>3.727251e+07</td>\n",
       "      <td>1.335230</td>\n",
       "      <td>1.335230</td>\n",
       "      <td>1.335230</td>\n",
       "    </tr>\n",
       "    <tr>\n",
       "      <th>min</th>\n",
       "      <td>1.000000</td>\n",
       "      <td>3.440600e+04</td>\n",
       "      <td>1.000000</td>\n",
       "      <td>1.000000</td>\n",
       "      <td>1.000000</td>\n",
       "    </tr>\n",
       "    <tr>\n",
       "      <th>25%</th>\n",
       "      <td>514.000000</td>\n",
       "      <td>1.090149e+08</td>\n",
       "      <td>2.000000</td>\n",
       "      <td>2.000000</td>\n",
       "      <td>2.000000</td>\n",
       "    </tr>\n",
       "    <tr>\n",
       "      <th>50%</th>\n",
       "      <td>1027.000000</td>\n",
       "      <td>1.166166e+08</td>\n",
       "      <td>3.000000</td>\n",
       "      <td>3.000000</td>\n",
       "      <td>3.000000</td>\n",
       "    </tr>\n",
       "    <tr>\n",
       "      <th>75%</th>\n",
       "      <td>1540.000000</td>\n",
       "      <td>1.229399e+08</td>\n",
       "      <td>4.000000</td>\n",
       "      <td>4.000000</td>\n",
       "      <td>4.000000</td>\n",
       "    </tr>\n",
       "    <tr>\n",
       "      <th>max</th>\n",
       "      <td>2053.000000</td>\n",
       "      <td>1.272293e+08</td>\n",
       "      <td>6.000000</td>\n",
       "      <td>6.000000</td>\n",
       "      <td>6.000000</td>\n",
       "    </tr>\n",
       "  </tbody>\n",
       "</table>\n",
       "</div>"
      ],
      "text/plain": [
       "                 #          cvno      konusma        yazma      yazma.1\n",
       "count  2053.000000  2.053000e+03  2053.000000  2053.000000  2053.000000\n",
       "mean   1027.000000  1.032608e+08     3.191914     3.191914     3.191914\n",
       "std     592.794371  3.727251e+07     1.335230     1.335230     1.335230\n",
       "min       1.000000  3.440600e+04     1.000000     1.000000     1.000000\n",
       "25%     514.000000  1.090149e+08     2.000000     2.000000     2.000000\n",
       "50%    1027.000000  1.166166e+08     3.000000     3.000000     3.000000\n",
       "75%    1540.000000  1.229399e+08     4.000000     4.000000     4.000000\n",
       "max    2053.000000  1.272293e+08     6.000000     6.000000     6.000000"
      ]
     },
     "execution_count": 54,
     "metadata": {},
     "output_type": "execute_result"
    }
   ],
   "source": [
    "#all of the scores are the same... There is only one score for each language on the website\n",
    "cv_languages.describe()"
   ]
  },
  {
   "cell_type": "code",
   "execution_count": 48,
   "id": "1be1a567",
   "metadata": {},
   "outputs": [
    {
     "data": {
      "text/plain": [
       "İngilizce              1569\n",
       "Almanca                 151\n",
       "Türkçe                   97\n",
       "Fransızca                38\n",
       "Arapça                   36\n",
       "Rusça                    35\n",
       "İspanyolca               23\n",
       "İtalyanca                20\n",
       "Kürtçe                   10\n",
       "Azerbaycan Türkçesi       9\n",
       "Çince                     7\n",
       "Osmanlıca                 7\n",
       "Farsca                    7\n",
       "Korece                    6\n",
       "Sırpça                    5\n",
       "İşaret Dili               4\n",
       "Japonca                   4\n",
       "Portekizce                3\n",
       "Boşnakça                  3\n",
       "Arnavutça                 2\n",
       "Flemenkçe                 2\n",
       "Bulgarca                  2\n",
       "Yunanca                   2\n",
       "Darice                    1\n",
       "Hırvatça                  1\n",
       "İsveççe                   1\n",
       "Lehçe                     1\n",
       "Kazakça                   1\n",
       "Peştuca                   1\n",
       "Urduca                    1\n",
       "Hintçe                    1\n",
       "-Diğer                    1\n",
       "Gürcüce                   1\n",
       "Kırgızca                  1\n",
       "Name: LangAdi, dtype: int64"
      ]
     },
     "execution_count": 48,
     "metadata": {},
     "output_type": "execute_result"
    }
   ],
   "source": [
    "cv_languages['LangAdi'].value_counts()"
   ]
  },
  {
   "cell_type": "code",
   "execution_count": 49,
   "id": "0402deb6",
   "metadata": {},
   "outputs": [
    {
     "data": {
      "text/plain": [
       "False    1972\n",
       "True       80\n",
       "Name: anadilimi, dtype: int64"
      ]
     },
     "execution_count": 49,
     "metadata": {},
     "output_type": "execute_result"
    }
   ],
   "source": [
    "cv_languages['anadilimi'].value_counts()"
   ]
  },
  {
   "cell_type": "code",
   "execution_count": 75,
   "id": "e9f826a7",
   "metadata": {},
   "outputs": [
    {
     "data": {
      "text/plain": [
       "Türkçe                 53\n",
       "Kürtçe                  5\n",
       "Arapça                  5\n",
       "İngilizce               4\n",
       "Farsca                  3\n",
       "Azerbaycan Türkçesi     3\n",
       "İtalyanca               1\n",
       "Almanca                 1\n",
       "Peştuca                 1\n",
       "Rusça                   1\n",
       "Çince                   1\n",
       "Fransızca               1\n",
       "Sırpça                  1\n",
       "Name: LangAdi, dtype: int64"
      ]
     },
     "execution_count": 75,
     "metadata": {},
     "output_type": "execute_result"
    }
   ],
   "source": [
    "cv_languages.where(cv_languages['anadilimi'] == True)['LangAdi'].value_counts()"
   ]
  },
  {
   "cell_type": "markdown",
   "id": "e0e75de3",
   "metadata": {},
   "source": [
    "# Skills"
   ]
  },
  {
   "cell_type": "code",
   "execution_count": 132,
   "id": "80794a0a",
   "metadata": {},
   "outputs": [
    {
     "data": {
      "text/html": [
       "<div>\n",
       "<style scoped>\n",
       "    .dataframe tbody tr th:only-of-type {\n",
       "        vertical-align: middle;\n",
       "    }\n",
       "\n",
       "    .dataframe tbody tr th {\n",
       "        vertical-align: top;\n",
       "    }\n",
       "\n",
       "    .dataframe thead th {\n",
       "        text-align: right;\n",
       "    }\n",
       "</style>\n",
       "<table border=\"1\" class=\"dataframe\">\n",
       "  <thead>\n",
       "    <tr style=\"text-align: right;\">\n",
       "      <th></th>\n",
       "      <th>cvno</th>\n",
       "      <th>baslik</th>\n",
       "      <th>eklenme_tarihi</th>\n",
       "    </tr>\n",
       "  </thead>\n",
       "  <tbody>\n",
       "    <tr>\n",
       "      <th>0</th>\n",
       "      <td>2454685</td>\n",
       "      <td>ISO EN 16949</td>\n",
       "      <td>2013-04-28 00:44:40.997</td>\n",
       "    </tr>\n",
       "    <tr>\n",
       "      <th>1</th>\n",
       "      <td>2454685</td>\n",
       "      <td>ISO TS 16949/2002</td>\n",
       "      <td>2013-04-28 00:44:40.997</td>\n",
       "    </tr>\n",
       "    <tr>\n",
       "      <th>2</th>\n",
       "      <td>2454685</td>\n",
       "      <td>Analiz Yöntemleri</td>\n",
       "      <td>2013-04-28 00:44:40.997</td>\n",
       "    </tr>\n",
       "    <tr>\n",
       "      <th>3</th>\n",
       "      <td>2454685</td>\n",
       "      <td>Mikrobiyoloji</td>\n",
       "      <td>2013-04-28 00:44:40.997</td>\n",
       "    </tr>\n",
       "    <tr>\n",
       "      <th>4</th>\n",
       "      <td>2454685</td>\n",
       "      <td>Satış Yönetimi</td>\n",
       "      <td>2021-07-15 15:28:07.877</td>\n",
       "    </tr>\n",
       "  </tbody>\n",
       "</table>\n",
       "</div>"
      ],
      "text/plain": [
       "      cvno              baslik           eklenme_tarihi\n",
       "0  2454685        ISO EN 16949  2013-04-28 00:44:40.997\n",
       "1  2454685   ISO TS 16949/2002  2013-04-28 00:44:40.997\n",
       "2  2454685  Analiz Yöntemleri   2013-04-28 00:44:40.997\n",
       "3  2454685       Mikrobiyoloji  2013-04-28 00:44:40.997\n",
       "4  2454685      Satış Yönetimi  2021-07-15 15:28:07.877"
      ]
     },
     "execution_count": 132,
     "metadata": {},
     "output_type": "execute_result"
    }
   ],
   "source": [
    "cv_skills.head()"
   ]
  },
  {
   "cell_type": "code",
   "execution_count": null,
   "id": "074545da",
   "metadata": {},
   "outputs": [],
   "source": [
    "cv_skills['eklenme_tarihi'] = pd.to_datetime(cv_skills['eklenme_tarihi'])"
   ]
  },
  {
   "cell_type": "code",
   "execution_count": 141,
   "id": "96430c61",
   "metadata": {},
   "outputs": [
    {
     "data": {
      "text/plain": [
       "cvno                       int64\n",
       "baslik                    object\n",
       "eklenme_tarihi    datetime64[ns]\n",
       "dtype: object"
      ]
     },
     "execution_count": 141,
     "metadata": {},
     "output_type": "execute_result"
    }
   ],
   "source": [
    "cv_skills.dtypes"
   ]
  },
  {
   "cell_type": "code",
   "execution_count": 148,
   "id": "5dfca763",
   "metadata": {},
   "outputs": [
    {
     "data": {
      "text/plain": [
       "(17059, 3628)"
      ]
     },
     "execution_count": 148,
     "metadata": {},
     "output_type": "execute_result"
    }
   ],
   "source": [
    "cv_skills.shape[0], len(cv_skills['baslik'].unique())"
   ]
  },
  {
   "cell_type": "code",
   "execution_count": 149,
   "id": "ff789fa2",
   "metadata": {},
   "outputs": [
    {
     "data": {
      "text/plain": [
       "Satış Yönetimi            225\n",
       "Microsoft Office          199\n",
       "Genel Muhasebe            187\n",
       "Microsoft Office Excel    180\n",
       "Muhasebe                  167\n",
       "                         ... \n",
       "Çizelgeleme                 1\n",
       "Analytics                   1\n",
       "Analitik CRM                1\n",
       "Reinforcement Learning      1\n",
       "Devlet Teşvikleri           1\n",
       "Name: baslik, Length: 3628, dtype: int64"
      ]
     },
     "execution_count": 149,
     "metadata": {},
     "output_type": "execute_result"
    }
   ],
   "source": [
    "cv_skills['baslik'].value_counts()"
   ]
  },
  {
   "cell_type": "code",
   "execution_count": 168,
   "id": "3a09f98b",
   "metadata": {},
   "outputs": [
    {
     "name": "stdout",
     "output_type": "stream",
     "text": [
      "('Microsoft Office', 199)\n",
      "('Microsoft Office Excel', 180)\n",
      "('Microsoft Office Word', 140)\n",
      "('Microsoft Office Programları', 126)\n",
      "('Microsoft Office Powerpoint', 100)\n",
      "('Microsoft Excel', 50)\n",
      "('Microsoft Office (Word, Excel, Powerpoint)', 46)\n",
      "('Microsoft Outlook', 34)\n",
      "('Microsoft Word', 16)\n",
      "('Microsoft Powerpoint', 15)\n",
      "('Microsoft Axapta', 14)\n"
     ]
    }
   ],
   "source": [
    "for v in cv_skills['baslik'].where(\n",
    "    cv_skills['baslik'].str.lower().str.contains('microsoft')\n",
    ").value_counts().iteritems():\n",
    "    if v[1] < 10:\n",
    "        continue\n",
    "    print(v)"
   ]
  },
  {
   "cell_type": "code",
   "execution_count": 158,
   "id": "1891a175",
   "metadata": {
    "scrolled": false
   },
   "outputs": [
    {
     "name": "stdout",
     "output_type": "stream",
     "text": [
      "('Bilgisayar Kullanımı', 53)\n",
      "('Bilgisayarlı Muhasebe', 40)\n",
      "('Bilgisayar', 37)\n",
      "('Bilgisayar Programları', 19)\n",
      "('Bilgisayar Donanım', 13)\n",
      "('Bilgisayar Ofis Programları', 12)\n",
      "('Bilgisayar Sertifikası', 10)\n"
     ]
    }
   ],
   "source": [
    "for v in cv_skills['baslik'].where(cv_skills['baslik'].str.contains('Bilgisayar')).value_counts().iteritems():\n",
    "    if v[1] < 10:\n",
    "        continue\n",
    "    print(v)"
   ]
  },
  {
   "cell_type": "code",
   "execution_count": 233,
   "id": "6c44b4e5",
   "metadata": {},
   "outputs": [
    {
     "data": {
      "image/png": "[encoded data removed]",
      "text/plain": [
       "<Figure size 432x288 with 1 Axes>"
      ]
     },
     "metadata": {
      "needs_background": "light"
     },
     "output_type": "display_data"
    }
   ],
   "source": [
    "data = cv_skills.groupby(\"baslik\").filter(lambda x: len(x) > 150)\n",
    "\n",
    "\n",
    "sns.countplot(\n",
    "    x=\"baslik\",\n",
    "    data=data, \n",
    "    palette=\"hls\",\n",
    ")\n",
    "\n",
    "plt.show()\n"
   ]
  },
  {
   "cell_type": "markdown",
   "id": "b27ba7c5",
   "metadata": {},
   "source": [
    "# Experiences"
   ]
  },
  {
   "cell_type": "code",
   "execution_count": 234,
   "id": "291b4e7a",
   "metadata": {},
   "outputs": [
    {
     "data": {
      "text/html": [
       "<div>\n",
       "<style scoped>\n",
       "    .dataframe tbody tr th:only-of-type {\n",
       "        vertical-align: middle;\n",
       "    }\n",
       "\n",
       "    .dataframe tbody tr th {\n",
       "        vertical-align: top;\n",
       "    }\n",
       "\n",
       "    .dataframe thead th {\n",
       "        text-align: right;\n",
       "    }\n",
       "</style>\n",
       "<table border=\"1\" class=\"dataframe\">\n",
       "  <thead>\n",
       "    <tr style=\"text-align: right;\">\n",
       "      <th></th>\n",
       "      <th>#</th>\n",
       "      <th>cvno</th>\n",
       "      <th>baslangic</th>\n",
       "      <th>bitis</th>\n",
       "      <th>FirmaAdi</th>\n",
       "      <th>IsTecrubeMetni</th>\n",
       "      <th>CalismaSekli</th>\n",
       "      <th>SektorAdi</th>\n",
       "      <th>pozisyonadi</th>\n",
       "      <th>sehirKodu</th>\n",
       "    </tr>\n",
       "  </thead>\n",
       "  <tbody>\n",
       "    <tr>\n",
       "      <th>0</th>\n",
       "      <td>1</td>\n",
       "      <td>34406</td>\n",
       "      <td>200302</td>\n",
       "      <td>200503</td>\n",
       "      <td>Yapı Kredi Sigorta A.Ş.</td>\n",
       "      <td>Birey ve kurumlara yönelik risk analizlerini y...</td>\n",
       "      <td>NaN</td>\n",
       "      <td>Sigortacılık</td>\n",
       "      <td>Bireysel Pazarlama</td>\n",
       "      <td>34.0</td>\n",
       "    </tr>\n",
       "    <tr>\n",
       "      <th>1</th>\n",
       "      <td>2</td>\n",
       "      <td>34406</td>\n",
       "      <td>200006</td>\n",
       "      <td>200212</td>\n",
       "      <td>Doğuş Otomotiv Holding A.Ş.</td>\n",
       "      <td>Şikayet yönetimi, firma müşterilerinin ürün ba...</td>\n",
       "      <td>F</td>\n",
       "      <td>Otomotiv</td>\n",
       "      <td>Müşteri Temsilcisi</td>\n",
       "      <td>34.0</td>\n",
       "    </tr>\n",
       "    <tr>\n",
       "      <th>2</th>\n",
       "      <td>3</td>\n",
       "      <td>34406</td>\n",
       "      <td>200603</td>\n",
       "      <td>200806</td>\n",
       "      <td>İNTERFARMA A.Ş.</td>\n",
       "      <td>Bölge müdürlüğüne bağlı bayiler (Marmara- Batı...</td>\n",
       "      <td>F</td>\n",
       "      <td>Sağlık</td>\n",
       "      <td>Depo ve Lojistik Yöneticisi</td>\n",
       "      <td>0.0</td>\n",
       "    </tr>\n",
       "    <tr>\n",
       "      <th>3</th>\n",
       "      <td>4</td>\n",
       "      <td>34406</td>\n",
       "      <td>200806</td>\n",
       "      <td>201209</td>\n",
       "      <td>Covidien Sağlık A.Ş.</td>\n",
       "      <td>• Satış sonrası hizmetlerin yürütülmesi&lt;br /&gt;\\...</td>\n",
       "      <td>F</td>\n",
       "      <td>Medikal Ürünler</td>\n",
       "      <td>Müşteri İlişkileri Uzmanı</td>\n",
       "      <td>34.0</td>\n",
       "    </tr>\n",
       "    <tr>\n",
       "      <th>4</th>\n",
       "      <td>5</td>\n",
       "      <td>34406</td>\n",
       "      <td>201210</td>\n",
       "      <td>201304</td>\n",
       "      <td>Covidien Services Europe Ltd.</td>\n",
       "      <td>&lt;span style=\"font-family: symbol\"&gt;&lt;span style=...</td>\n",
       "      <td>F</td>\n",
       "      <td>Tıbbi Cihaz ve Malzemeler</td>\n",
       "      <td>Müşteri Hizmetleri Koordinatörü</td>\n",
       "      <td>0.0</td>\n",
       "    </tr>\n",
       "  </tbody>\n",
       "</table>\n",
       "</div>"
      ],
      "text/plain": [
       "   #   cvno  baslangic   bitis                       FirmaAdi  \\\n",
       "0  1  34406     200302  200503        Yapı Kredi Sigorta A.Ş.   \n",
       "1  2  34406     200006  200212    Doğuş Otomotiv Holding A.Ş.   \n",
       "2  3  34406     200603  200806                İNTERFARMA A.Ş.   \n",
       "3  4  34406     200806  201209           Covidien Sağlık A.Ş.   \n",
       "4  5  34406     201210  201304  Covidien Services Europe Ltd.   \n",
       "\n",
       "                                      IsTecrubeMetni CalismaSekli  \\\n",
       "0  Birey ve kurumlara yönelik risk analizlerini y...          NaN   \n",
       "1  Şikayet yönetimi, firma müşterilerinin ürün ba...            F   \n",
       "2  Bölge müdürlüğüne bağlı bayiler (Marmara- Batı...            F   \n",
       "3  • Satış sonrası hizmetlerin yürütülmesi<br />\\...            F   \n",
       "4  <span style=\"font-family: symbol\"><span style=...            F   \n",
       "\n",
       "                   SektorAdi                      pozisyonadi  sehirKodu  \n",
       "0               Sigortacılık              Bireysel Pazarlama        34.0  \n",
       "1                   Otomotiv              Müşteri Temsilcisi        34.0  \n",
       "2                     Sağlık      Depo ve Lojistik Yöneticisi        0.0  \n",
       "3            Medikal Ürünler        Müşteri İlişkileri Uzmanı       34.0  \n",
       "4  Tıbbi Cihaz ve Malzemeler  Müşteri Hizmetleri Koordinatörü        0.0  "
      ]
     },
     "execution_count": 234,
     "metadata": {},
     "output_type": "execute_result"
    }
   ],
   "source": [
    "cv_experiences.head()"
   ]
  },
  {
   "cell_type": "code",
   "execution_count": 251,
   "id": "e9f076d7",
   "metadata": {},
   "outputs": [
    {
     "data": {
      "text/plain": [
       "<AxesSubplot:>"
      ]
     },
     "execution_count": 251,
     "metadata": {},
     "output_type": "execute_result"
    },
    {
     "data": {
      "image/png": "[encoded data removed]",
      "text/plain": [
       "<Figure size 432x288 with 1 Axes>"
      ]
     },
     "metadata": {
      "needs_background": "light"
     },
     "output_type": "display_data"
    }
   ],
   "source": [
    "#TODO get what these categories mean\n",
    "cv_experiences['CalismaSekli'].value_counts().plot(kind=\"barh\")"
   ]
  },
  {
   "cell_type": "code",
   "execution_count": 238,
   "id": "977bc91b",
   "metadata": {},
   "outputs": [
    {
     "data": {
      "text/plain": [
       "Hizmet                               757\n",
       "Gıda                                 398\n",
       "Bilişim                              370\n",
       "Tekstil                              298\n",
       "Bankacılık                           286\n",
       "                                    ... \n",
       "Medya Satınalma Firmaları              1\n",
       "Veri Merkezi                           1\n",
       "Şehir Mobilyaları                      1\n",
       "Marka - Patent Hizmetleri              1\n",
       "Film, Grafik ve Renk Ayrım İşleri      1\n",
       "Name: SektorAdi, Length: 290, dtype: int64"
      ]
     },
     "execution_count": 238,
     "metadata": {},
     "output_type": "execute_result"
    }
   ],
   "source": [
    "cv_experiences['SektorAdi'].value_counts()"
   ]
  },
  {
   "cell_type": "code",
   "execution_count": 239,
   "id": "44f1fefb",
   "metadata": {},
   "outputs": [
    {
     "data": {
      "text/plain": [
       "Türk Telekom                               20\n",
       "Kariyer.net                                18\n",
       "Garanti Bankası                            16\n",
       "Pronet Güvenlik Hizmetleri                 16\n",
       "Finansbank Aş.                             15\n",
       "                                           ..\n",
       "Pekom Polis Evi                             1\n",
       "Radisson Blu Conference & Airport Hotel     1\n",
       "Eyüpoğlu İnşaat                             1\n",
       "Reis Dalgıçlık Ve Sualtı Hizmetleri         1\n",
       "Platinum Marine Service                     1\n",
       "Name: FirmaAdi, Length: 6221, dtype: int64"
      ]
     },
     "execution_count": 239,
     "metadata": {},
     "output_type": "execute_result"
    }
   ],
   "source": [
    "cv_experiences['FirmaAdi'].value_counts()"
   ]
  },
  {
   "cell_type": "code",
   "execution_count": 240,
   "id": "04f740a6",
   "metadata": {},
   "outputs": [
    {
     "data": {
      "text/plain": [
       "Satış Danışmanı                     305\n",
       "Muhasebe Uzmanı                     238\n",
       "Muhasebe Elemanı                    190\n",
       "Satış Temsilcisi                    166\n",
       "Muhasebe Sorumlusu                  123\n",
       "                                   ... \n",
       "3D Ölçüm Teknikeri                    1\n",
       "Mimari Maket Yapım Uzmanı             1\n",
       "Muhasebe Ve Raporlama Yetkilisi       1\n",
       "Saha Geliştirme Uzmanı                1\n",
       "Operasyon Yöneticisi / Yönetmeni      1\n",
       "Name: pozisyonadi, Length: 1627, dtype: int64"
      ]
     },
     "execution_count": 240,
     "metadata": {},
     "output_type": "execute_result"
    }
   ],
   "source": [
    "cv_experiences['pozisyonadi'].value_counts()"
   ]
  },
  {
   "cell_type": "code",
   "execution_count": 241,
   "id": "78c0febc",
   "metadata": {},
   "outputs": [
    {
     "data": {
      "text/plain": [
       "0.0      3715\n",
       "34.0     1289\n",
       "82.0     1159\n",
       "999.0     185\n",
       "41.0      113\n",
       "         ... \n",
       "47.0        1\n",
       "56.0        1\n",
       "51.0        1\n",
       "12.0        1\n",
       "29.0        1\n",
       "Name: sehirKodu, Length: 71, dtype: int64"
      ]
     },
     "execution_count": 241,
     "metadata": {},
     "output_type": "execute_result"
    }
   ],
   "source": [
    "#float? why?\n",
    "cv_experiences['sehirKodu'].value_counts()"
   ]
  },
  {
   "cell_type": "markdown",
   "id": "6063b6b9",
   "metadata": {},
   "source": [
    "# Projects"
   ]
  },
  {
   "cell_type": "code",
   "execution_count": 244,
   "id": "5dacf955",
   "metadata": {},
   "outputs": [
    {
     "data": {
      "text/html": [
       "<div>\n",
       "<style scoped>\n",
       "    .dataframe tbody tr th:only-of-type {\n",
       "        vertical-align: middle;\n",
       "    }\n",
       "\n",
       "    .dataframe tbody tr th {\n",
       "        vertical-align: top;\n",
       "    }\n",
       "\n",
       "    .dataframe thead th {\n",
       "        text-align: right;\n",
       "    }\n",
       "</style>\n",
       "<table border=\"1\" class=\"dataframe\">\n",
       "  <thead>\n",
       "    <tr style=\"text-align: right;\">\n",
       "      <th></th>\n",
       "      <th>#</th>\n",
       "      <th>cvno</th>\n",
       "      <th>baslik</th>\n",
       "      <th>aciklama</th>\n",
       "      <th>projeTarihi</th>\n",
       "    </tr>\n",
       "  </thead>\n",
       "  <tbody>\n",
       "    <tr>\n",
       "      <th>0</th>\n",
       "      <td>1</td>\n",
       "      <td>456295</td>\n",
       "      <td>Bilim ilac sosyal gönüller projesi</td>\n",
       "      <td>firma dahilinde yer alan grup belirli aralıkla...</td>\n",
       "      <td>2005-10-01 03:00:00.000</td>\n",
       "    </tr>\n",
       "    <tr>\n",
       "      <th>1</th>\n",
       "      <td>2</td>\n",
       "      <td>3175093</td>\n",
       "      <td>Akbank Aksaray Bölge Bireysel Emeklilik Satış ...</td>\n",
       "      <td>Akbank Unkapanı Şubesinde Müşteri Geri kazanim...</td>\n",
       "      <td>2015-01-01 02:00:00.000</td>\n",
       "    </tr>\n",
       "    <tr>\n",
       "      <th>2</th>\n",
       "      <td>3</td>\n",
       "      <td>3175093</td>\n",
       "      <td>Bölge Müşteri Finansman Projesi</td>\n",
       "      <td>Pandemi Döneminde , Bölgede ki Banka şubeleriy...</td>\n",
       "      <td>2020-10-01 03:00:00.000</td>\n",
       "    </tr>\n",
       "    <tr>\n",
       "      <th>3</th>\n",
       "      <td>4</td>\n",
       "      <td>3175093</td>\n",
       "      <td>Metro Türkiye Bakırköy-Zeytinburnu Bölge Müşte...</td>\n",
       "      <td>Metro Türkiye'de Pandemi Döneminde Bakırköy -Z...</td>\n",
       "      <td>2020-09-01 00:00:00.000</td>\n",
       "    </tr>\n",
       "    <tr>\n",
       "      <th>4</th>\n",
       "      <td>5</td>\n",
       "      <td>5044755</td>\n",
       "      <td>İK TEZI</td>\n",
       "      <td>BIR ISLETMEDE INSAN KAYNAKLARI SISTEMI KURULMA...</td>\n",
       "      <td>2003-02-01 02:00:00.000</td>\n",
       "    </tr>\n",
       "  </tbody>\n",
       "</table>\n",
       "</div>"
      ],
      "text/plain": [
       "   #     cvno                                             baslik  \\\n",
       "0  1   456295                 Bilim ilac sosyal gönüller projesi   \n",
       "1  2  3175093  Akbank Aksaray Bölge Bireysel Emeklilik Satış ...   \n",
       "2  3  3175093                    Bölge Müşteri Finansman Projesi   \n",
       "3  4  3175093  Metro Türkiye Bakırköy-Zeytinburnu Bölge Müşte...   \n",
       "4  5  5044755                                            İK TEZI   \n",
       "\n",
       "                                            aciklama              projeTarihi  \n",
       "0  firma dahilinde yer alan grup belirli aralıkla...  2005-10-01 03:00:00.000  \n",
       "1  Akbank Unkapanı Şubesinde Müşteri Geri kazanim...  2015-01-01 02:00:00.000  \n",
       "2  Pandemi Döneminde , Bölgede ki Banka şubeleriy...  2020-10-01 03:00:00.000  \n",
       "3  Metro Türkiye'de Pandemi Döneminde Bakırköy -Z...  2020-09-01 00:00:00.000  \n",
       "4  BIR ISLETMEDE INSAN KAYNAKLARI SISTEMI KURULMA...  2003-02-01 02:00:00.000  "
      ]
     },
     "execution_count": 244,
     "metadata": {},
     "output_type": "execute_result"
    }
   ],
   "source": [
    "cv_projects.head()"
   ]
  },
  {
   "cell_type": "markdown",
   "id": "a4f7f23b",
   "metadata": {},
   "source": [
    "# CVs"
   ]
  },
  {
   "cell_type": "code",
   "execution_count": 245,
   "id": "292a5b49",
   "metadata": {
    "scrolled": true
   },
   "outputs": [
    {
     "data": {
      "text/html": [
       "<div>\n",
       "<style scoped>\n",
       "    .dataframe tbody tr th:only-of-type {\n",
       "        vertical-align: middle;\n",
       "    }\n",
       "\n",
       "    .dataframe tbody tr th {\n",
       "        vertical-align: top;\n",
       "    }\n",
       "\n",
       "    .dataframe thead th {\n",
       "        text-align: right;\n",
       "    }\n",
       "</style>\n",
       "<table border=\"1\" class=\"dataframe\">\n",
       "  <thead>\n",
       "    <tr style=\"text-align: right;\">\n",
       "      <th></th>\n",
       "      <th>#</th>\n",
       "      <th>cvno</th>\n",
       "      <th>dogumTarihi</th>\n",
       "      <th>egitimDurumu</th>\n",
       "      <th>EhliyetSinifi</th>\n",
       "      <th>ulke</th>\n",
       "      <th>sehir</th>\n",
       "      <th>ilce</th>\n",
       "      <th>CvGenelPozisyonAdi</th>\n",
       "      <th>bilgisayarBilgileri</th>\n",
       "    </tr>\n",
       "  </thead>\n",
       "  <tbody>\n",
       "    <tr>\n",
       "      <th>0</th>\n",
       "      <td>1</td>\n",
       "      <td>34406</td>\n",
       "      <td>xxxx</td>\n",
       "      <td>UM</td>\n",
       "      <td>B</td>\n",
       "      <td>65</td>\n",
       "      <td>İstanbul(Asya)</td>\n",
       "      <td>Ümraniye</td>\n",
       "      <td>NaN</td>\n",
       "      <td>SAP trainer, Microsoft Office Professional Uyg...</td>\n",
       "    </tr>\n",
       "    <tr>\n",
       "      <th>1</th>\n",
       "      <td>2</td>\n",
       "      <td>245323</td>\n",
       "      <td>xxxx</td>\n",
       "      <td>UM</td>\n",
       "      <td>B</td>\n",
       "      <td>65</td>\n",
       "      <td>İstanbul(Asya)</td>\n",
       "      <td>Maltepe</td>\n",
       "      <td>NaN</td>\n",
       "      <td>ms word, ms excel, logo lks, logo gold, eta, l...</td>\n",
       "    </tr>\n",
       "    <tr>\n",
       "      <th>2</th>\n",
       "      <td>3</td>\n",
       "      <td>327954</td>\n",
       "      <td>xxxx</td>\n",
       "      <td>UM</td>\n",
       "      <td>B</td>\n",
       "      <td>65</td>\n",
       "      <td>Giresun</td>\n",
       "      <td>Merkez</td>\n",
       "      <td>0.0</td>\n",
       "      <td>WINDOWS98,WİNWORD,EXCEL,FORTRAN 77,EWB</td>\n",
       "    </tr>\n",
       "    <tr>\n",
       "      <th>3</th>\n",
       "      <td>4</td>\n",
       "      <td>456295</td>\n",
       "      <td>xxxx</td>\n",
       "      <td>UM</td>\n",
       "      <td>E</td>\n",
       "      <td>65</td>\n",
       "      <td>İstanbul(Asya)</td>\n",
       "      <td>Ümraniye</td>\n",
       "      <td>0.0</td>\n",
       "      <td>WORLD.WİNDOWS</td>\n",
       "    </tr>\n",
       "    <tr>\n",
       "      <th>4</th>\n",
       "      <td>5</td>\n",
       "      <td>716215</td>\n",
       "      <td>xxxx</td>\n",
       "      <td>UM</td>\n",
       "      <td>B</td>\n",
       "      <td>65</td>\n",
       "      <td>Antalya</td>\n",
       "      <td>Konyaaltı</td>\n",
       "      <td>363.0</td>\n",
       "      <td>MS Office(word,excel,power point),Internet Exp...</td>\n",
       "    </tr>\n",
       "  </tbody>\n",
       "</table>\n",
       "</div>"
      ],
      "text/plain": [
       "   #    cvno dogumTarihi egitimDurumu EhliyetSinifi  ulke           sehir  \\\n",
       "0  1   34406        xxxx           UM             B    65  İstanbul(Asya)   \n",
       "1  2  245323        xxxx           UM             B    65  İstanbul(Asya)   \n",
       "2  3  327954        xxxx           UM             B    65         Giresun   \n",
       "3  4  456295        xxxx           UM             E    65  İstanbul(Asya)   \n",
       "4  5  716215        xxxx           UM             B    65         Antalya   \n",
       "\n",
       "        ilce  CvGenelPozisyonAdi  \\\n",
       "0   Ümraniye                 NaN   \n",
       "1    Maltepe                 NaN   \n",
       "2     Merkez                 0.0   \n",
       "3   Ümraniye                 0.0   \n",
       "4  Konyaaltı               363.0   \n",
       "\n",
       "                                 bilgisayarBilgileri  \n",
       "0  SAP trainer, Microsoft Office Professional Uyg...  \n",
       "1  ms word, ms excel, logo lks, logo gold, eta, l...  \n",
       "2             WINDOWS98,WİNWORD,EXCEL,FORTRAN 77,EWB  \n",
       "3                                      WORLD.WİNDOWS  \n",
       "4  MS Office(word,excel,power point),Internet Exp...  "
      ]
     },
     "execution_count": 245,
     "metadata": {},
     "output_type": "execute_result"
    }
   ],
   "source": [
    "cvs.head()"
   ]
  },
  {
   "cell_type": "code",
   "execution_count": 254,
   "id": "69ac21e6",
   "metadata": {},
   "outputs": [
    {
     "data": {
      "text/plain": [
       "<AxesSubplot:>"
      ]
     },
     "execution_count": 254,
     "metadata": {},
     "output_type": "execute_result"
    },
    {
     "data": {
      "image/png": "[encoded data removed]",
      "text/plain": [
       "<Figure size 432x288 with 1 Axes>"
      ]
     },
     "metadata": {
      "needs_background": "light"
     },
     "output_type": "display_data"
    }
   ],
   "source": [
    "#This isn't a name...\n",
    "cvs['CvGenelPozisyonAdi'].value_counts()"
   ]
  },
  {
   "cell_type": "code",
   "execution_count": 250,
   "id": "9db58631",
   "metadata": {},
   "outputs": [
    {
     "data": {
      "text/plain": [
       "<AxesSubplot:>"
      ]
     },
     "execution_count": 250,
     "metadata": {},
     "output_type": "execute_result"
    },
    {
     "data": {
      "image/png": "[encoded data removed]",
      "text/plain": [
       "<Figure size 432x288 with 1 Axes>"
      ]
     },
     "metadata": {
      "needs_background": "light"
     },
     "output_type": "display_data"
    }
   ],
   "source": [
    "#TODO get what these categories mean\n",
    "cvs['egitimDurumu'].value_counts().plot(kind=\"bar\")"
   ]
  },
  {
   "cell_type": "code",
   "execution_count": 278,
   "id": "e797ab27",
   "metadata": {
    "scrolled": false
   },
   "outputs": [
    {
     "data": {
      "text/plain": [
       "<AxesSubplot:>"
      ]
     },
     "execution_count": 278,
     "metadata": {},
     "output_type": "execute_result"
    },
    {
     "data": {
      "image/png": "[encoded data removed]",
      "text/plain": [
       "<Figure size 432x288 with 1 Axes>"
      ]
     },
     "metadata": {
      "needs_background": "light"
     },
     "output_type": "display_data"
    }
   ],
   "source": [
    "cvs['sehir'].map(lambda x: x.lower().split('(')[0]).value_counts()[:10].plot(kind=\"bar\")"
   ]
  },
  {
   "cell_type": "code",
   "execution_count": null,
   "id": "d81676af",
   "metadata": {},
   "outputs": [],
   "source": []
  },
  {
   "cell_type": "code",
   "execution_count": null,
   "id": "2472bfb8",
   "metadata": {},
   "outputs": [],
   "source": []
  },
  {
   "cell_type": "code",
   "execution_count": null,
   "id": "da3e003c",
   "metadata": {},
   "outputs": [],
   "source": []
  },
  {
   "cell_type": "code",
   "execution_count": null,
   "id": "cbddebb9",
   "metadata": {},
   "outputs": [],
   "source": []
  }
 ],
 "metadata": {
  "kernelspec": {
   "display_name": "Python 3 (ipykernel)",
   "language": "python",
   "name": "python3"
  },
  "language_info": {
   "codemirror_mode": {
    "name": "ipython",
    "version": 3
   },
   "file_extension": ".py",
   "mimetype": "text/x-python",
   "name": "python",
   "nbconvert_exporter": "python",
   "pygments_lexer": "ipython3",
   "version": "3.9.5"
  }
 },
 "nbformat": 4,
 "nbformat_minor": 5
}
